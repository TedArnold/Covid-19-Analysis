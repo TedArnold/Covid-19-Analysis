{
 "cells": [
  {
   "cell_type": "markdown",
   "metadata": {
    "papermill": {
     "duration": 0.015867,
     "end_time": "2021-02-06T07:21:22.940008",
     "exception": false,
     "start_time": "2021-02-06T07:21:22.924141",
     "status": "completed"
    },
    "tags": []
   },
   "source": [
    "# COVID-19 analysis"
   ]
  },
  {
   "cell_type": "markdown",
   "metadata": {
    "papermill": {
     "duration": 0.016099,
     "end_time": "2021-02-06T07:21:22.971848",
     "exception": false,
     "start_time": "2021-02-06T07:21:22.955749",
     "status": "completed"
    },
    "tags": []
   },
   "source": [
    "#INTRODUCTION\n",
    "\n",
    "Covid-19 is a virus that has affected the whole world and somehow put it on hold. We have gotten data from kaggle about the number of deaths and their recovery. This data is a bout the origin country of the virus, China from a place called Wuhan.\n",
    "\n",
    "**Objectives**\n",
    "\n",
    "We are going to statistically test whether some claims made by the medical team are true.We will use the t-test to find out whether:\n",
    "\n",
    "> Males have a higher death rate than females.\n",
    "\n",
    "> Elder people have a higher death rate than younger people.\n",
    "\n",
    "**Plan**\n",
    "\n",
    ">Assemble the data and explore it.\n",
    "\n",
    ">Data cleaning.\n",
    "\n",
    ">Do a t-test for our hypothesis testing.\n",
    "\n",
    ">Visualize the data.\n",
    "\n",
    "**Outcome**\n",
    "\n",
    "I performed a t test on the dataset to prove the following hypothesis:\n",
    "\n",
    "**1. Death rate is higher in males than females.**\n",
    "\n",
    "With  **95% confidence:** men have 1.7% to 7.8% higher chance of dying compared to women. \n",
    "\n",
    "Normally, if p-value<0.05, we reject null hypothesis (p-value=0.002).\n",
    "\n",
    "**So the statistic is significant** and the claim is true.\n",
    "\n",
    "**2. Death rate is higher in older people.**\n",
    "\n",
    "With a **95% confidence** the difference between a person who is alive and dead is between 14 to 24 years.\n",
    "\n",
    "Normally, if p-value<0.05, we reject null hypothesis (p-value=0).\n",
    "\n",
    "**The statistic is significant.** The claim is true.\n",
    "\n",
    "**Load in the required packages**"
   ]
  },
  {
   "cell_type": "code",
   "execution_count": 1,
   "metadata": {
    "execution": {
     "iopub.execute_input": "2021-02-06T07:21:23.030167Z",
     "iopub.status.busy": "2021-02-06T07:21:23.028178Z",
     "iopub.status.idle": "2021-02-06T07:21:24.281338Z",
     "shell.execute_reply": "2021-02-06T07:21:24.280150Z"
    },
    "papermill": {
     "duration": 1.294651,
     "end_time": "2021-02-06T07:21:24.281556",
     "exception": false,
     "start_time": "2021-02-06T07:21:22.986905",
     "status": "completed"
    },
    "tags": []
   },
   "outputs": [
    {
     "name": "stderr",
     "output_type": "stream",
     "text": [
      "── \u001b[1mAttaching packages\u001b[22m ─────────────────────────────────────── tidyverse 1.3.0 ──\n",
      "\n",
      "\u001b[32m✔\u001b[39m \u001b[34mggplot2\u001b[39m 3.3.2     \u001b[32m✔\u001b[39m \u001b[34mpurrr  \u001b[39m 0.3.4\n",
      "\u001b[32m✔\u001b[39m \u001b[34mtibble \u001b[39m 3.0.4     \u001b[32m✔\u001b[39m \u001b[34mdplyr  \u001b[39m 1.0.2\n",
      "\u001b[32m✔\u001b[39m \u001b[34mtidyr  \u001b[39m 1.1.2     \u001b[32m✔\u001b[39m \u001b[34mstringr\u001b[39m 1.4.0\n",
      "\u001b[32m✔\u001b[39m \u001b[34mreadr  \u001b[39m 1.4.0     \u001b[32m✔\u001b[39m \u001b[34mforcats\u001b[39m 0.5.0\n",
      "\n",
      "── \u001b[1mConflicts\u001b[22m ────────────────────────────────────────── tidyverse_conflicts() ──\n",
      "\u001b[31m✖\u001b[39m \u001b[34mdplyr\u001b[39m::\u001b[32mfilter()\u001b[39m masks \u001b[34mstats\u001b[39m::filter()\n",
      "\u001b[31m✖\u001b[39m \u001b[34mdplyr\u001b[39m::\u001b[32mlag()\u001b[39m    masks \u001b[34mstats\u001b[39m::lag()\n",
      "\n"
     ]
    }
   ],
   "source": [
    "library(tidyverse)\n",
    "\n",
    "data <- read.csv(\"../input/covid19/COVID19_line_list_data.csv\",stringsAsFactors = FALSE)"
   ]
  },
  {
   "cell_type": "markdown",
   "metadata": {
    "papermill": {
     "duration": 0.015981,
     "end_time": "2021-02-06T07:21:24.315630",
     "exception": false,
     "start_time": "2021-02-06T07:21:24.299649",
     "status": "completed"
    },
    "tags": []
   },
   "source": [
    "# DATA CLEANING\n",
    "\n",
    "Let us check for missing variables."
   ]
  },
  {
   "cell_type": "code",
   "execution_count": 2,
   "metadata": {
    "execution": {
     "iopub.execute_input": "2021-02-06T07:21:24.375072Z",
     "iopub.status.busy": "2021-02-06T07:21:24.350729Z",
     "iopub.status.idle": "2021-02-06T07:21:24.401016Z",
     "shell.execute_reply": "2021-02-06T07:21:24.400004Z"
    },
    "papermill": {
     "duration": 0.069505,
     "end_time": "2021-02-06T07:21:24.401117",
     "exception": false,
     "start_time": "2021-02-06T07:21:24.331612",
     "status": "completed"
    },
    "tags": []
   },
   "outputs": [
    {
     "data": {
      "text/html": [
       "<table class=\"dataframe\">\n",
       "<caption>A data.frame: 18 × 2</caption>\n",
       "<thead>\n",
       "\t<tr><th></th><th scope=col>Index</th><th scope=col>Percantage</th></tr>\n",
       "\t<tr><th></th><th scope=col>&lt;fct&gt;</th><th scope=col>&lt;dbl&gt;</th></tr>\n",
       "</thead>\n",
       "<tbody>\n",
       "\t<tr><th scope=row>case_in_country</th><td>case_in_country      </td><td> 18.1566820</td></tr>\n",
       "\t<tr><th scope=row>reporting.date</th><td>reporting.date       </td><td>  0.0921659</td></tr>\n",
       "\t<tr><th scope=row>X</th><td>X                    </td><td>100.0000000</td></tr>\n",
       "\t<tr><th scope=row>summary</th><td>summary              </td><td>  0.4608295</td></tr>\n",
       "\t<tr><th scope=row>gender</th><td>gender               </td><td> 16.8663594</td></tr>\n",
       "\t<tr><th scope=row>age</th><td>age                  </td><td> 22.3041475</td></tr>\n",
       "\t<tr><th scope=row>symptom_onset</th><td>symptom_onset        </td><td> 48.1105991</td></tr>\n",
       "\t<tr><th scope=row>If_onset_approximated</th><td>If_onset_approximated</td><td> 48.3870968</td></tr>\n",
       "\t<tr><th scope=row>hosp_visit_date</th><td>hosp_visit_date      </td><td> 53.1797235</td></tr>\n",
       "\t<tr><th scope=row>exposure_start</th><td>exposure_start       </td><td> 88.2027650</td></tr>\n",
       "\t<tr><th scope=row>exposure_end</th><td>exposure_end         </td><td> 68.5714286</td></tr>\n",
       "\t<tr><th scope=row>from.Wuhan</th><td>from.Wuhan           </td><td>  0.3686636</td></tr>\n",
       "\t<tr><th scope=row>X.1</th><td>X.1                  </td><td>100.0000000</td></tr>\n",
       "\t<tr><th scope=row>X.2</th><td>X.2                  </td><td>100.0000000</td></tr>\n",
       "\t<tr><th scope=row>X.3</th><td>X.3                  </td><td>100.0000000</td></tr>\n",
       "\t<tr><th scope=row>X.4</th><td>X.4                  </td><td>100.0000000</td></tr>\n",
       "\t<tr><th scope=row>X.5</th><td>X.5                  </td><td>100.0000000</td></tr>\n",
       "\t<tr><th scope=row>X.6</th><td>X.6                  </td><td>100.0000000</td></tr>\n",
       "</tbody>\n",
       "</table>\n"
      ],
      "text/latex": [
       "A data.frame: 18 × 2\n",
       "\\begin{tabular}{r|ll}\n",
       "  & Index & Percantage\\\\\n",
       "  & <fct> & <dbl>\\\\\n",
       "\\hline\n",
       "\tcase\\_in\\_country & case\\_in\\_country       &  18.1566820\\\\\n",
       "\treporting.date & reporting.date        &   0.0921659\\\\\n",
       "\tX & X                     & 100.0000000\\\\\n",
       "\tsummary & summary               &   0.4608295\\\\\n",
       "\tgender & gender                &  16.8663594\\\\\n",
       "\tage & age                   &  22.3041475\\\\\n",
       "\tsymptom\\_onset & symptom\\_onset         &  48.1105991\\\\\n",
       "\tIf\\_onset\\_approximated & If\\_onset\\_approximated &  48.3870968\\\\\n",
       "\thosp\\_visit\\_date & hosp\\_visit\\_date       &  53.1797235\\\\\n",
       "\texposure\\_start & exposure\\_start        &  88.2027650\\\\\n",
       "\texposure\\_end & exposure\\_end          &  68.5714286\\\\\n",
       "\tfrom.Wuhan & from.Wuhan            &   0.3686636\\\\\n",
       "\tX.1 & X.1                   & 100.0000000\\\\\n",
       "\tX.2 & X.2                   & 100.0000000\\\\\n",
       "\tX.3 & X.3                   & 100.0000000\\\\\n",
       "\tX.4 & X.4                   & 100.0000000\\\\\n",
       "\tX.5 & X.5                   & 100.0000000\\\\\n",
       "\tX.6 & X.6                   & 100.0000000\\\\\n",
       "\\end{tabular}\n"
      ],
      "text/markdown": [
       "\n",
       "A data.frame: 18 × 2\n",
       "\n",
       "| <!--/--> | Index &lt;fct&gt; | Percantage &lt;dbl&gt; |\n",
       "|---|---|---|\n",
       "| case_in_country | case_in_country       |  18.1566820 |\n",
       "| reporting.date | reporting.date        |   0.0921659 |\n",
       "| X | X                     | 100.0000000 |\n",
       "| summary | summary               |   0.4608295 |\n",
       "| gender | gender                |  16.8663594 |\n",
       "| age | age                   |  22.3041475 |\n",
       "| symptom_onset | symptom_onset         |  48.1105991 |\n",
       "| If_onset_approximated | If_onset_approximated |  48.3870968 |\n",
       "| hosp_visit_date | hosp_visit_date       |  53.1797235 |\n",
       "| exposure_start | exposure_start        |  88.2027650 |\n",
       "| exposure_end | exposure_end          |  68.5714286 |\n",
       "| from.Wuhan | from.Wuhan            |   0.3686636 |\n",
       "| X.1 | X.1                   | 100.0000000 |\n",
       "| X.2 | X.2                   | 100.0000000 |\n",
       "| X.3 | X.3                   | 100.0000000 |\n",
       "| X.4 | X.4                   | 100.0000000 |\n",
       "| X.5 | X.5                   | 100.0000000 |\n",
       "| X.6 | X.6                   | 100.0000000 |\n",
       "\n"
      ],
      "text/plain": [
       "                      Index                 Percantage \n",
       "case_in_country       case_in_country        18.1566820\n",
       "reporting.date        reporting.date          0.0921659\n",
       "X                     X                     100.0000000\n",
       "summary               summary                 0.4608295\n",
       "gender                gender                 16.8663594\n",
       "age                   age                    22.3041475\n",
       "symptom_onset         symptom_onset          48.1105991\n",
       "If_onset_approximated If_onset_approximated  48.3870968\n",
       "hosp_visit_date       hosp_visit_date        53.1797235\n",
       "exposure_start        exposure_start         88.2027650\n",
       "exposure_end          exposure_end           68.5714286\n",
       "from.Wuhan            from.Wuhan              0.3686636\n",
       "X.1                   X.1                   100.0000000\n",
       "X.2                   X.2                   100.0000000\n",
       "X.3                   X.3                   100.0000000\n",
       "X.4                   X.4                   100.0000000\n",
       "X.5                   X.5                   100.0000000\n",
       "X.6                   X.6                   100.0000000"
      ]
     },
     "metadata": {},
     "output_type": "display_data"
    }
   ],
   "source": [
    "Missing_Indices<-sapply(data, function(x)sum(is.na(x)))\n",
    "Missing_Summary<-data.frame(Index=names(data),Percantage = (Missing_Indices/1085)*100)\n",
    "Missing_Summary[Missing_Summary$Percantage>0,]"
   ]
  },
  {
   "cell_type": "code",
   "execution_count": 3,
   "metadata": {
    "execution": {
     "iopub.execute_input": "2021-02-06T07:21:24.438122Z",
     "iopub.status.busy": "2021-02-06T07:21:24.437721Z",
     "iopub.status.idle": "2021-02-06T07:21:25.006668Z",
     "shell.execute_reply": "2021-02-06T07:21:25.005771Z"
    },
    "papermill": {
     "duration": 0.588954,
     "end_time": "2021-02-06T07:21:25.006956",
     "exception": false,
     "start_time": "2021-02-06T07:21:24.418002",
     "status": "completed"
    },
    "tags": []
   },
   "outputs": [
    {
     "data": {
      "image/png": "[encoded data removed]"
     },
     "metadata": {
      "image/png": {
       "height": 420,
       "width": 420
      }
     },
     "output_type": "display_data"
    }
   ],
   "source": [
    "Missing_Summary %>% \n",
    "  filter(Percantage>0) %>% \n",
    "  mutate(Index = fct_reorder(Index, Percantage)) %>% \n",
    "  ggplot(aes(Index, Percantage)) +\n",
    "  geom_col(fill = \"darkorange\") +\n",
    "  theme_classic() +\n",
    "  coord_flip() +\n",
    "  ggtitle(\"Percantage of missing values\")"
   ]
  },
  {
   "cell_type": "markdown",
   "metadata": {
    "papermill": {
     "duration": 0.019462,
     "end_time": "2021-02-06T07:21:25.052692",
     "exception": false,
     "start_time": "2021-02-06T07:21:25.033230",
     "status": "completed"
    },
    "tags": []
   },
   "source": [
    "X, X1;X6 columns have a 100% missing values so we will drop them.\n",
    "\n",
    "\n",
    "**X1:X6**"
   ]
  },
  {
   "cell_type": "code",
   "execution_count": 4,
   "metadata": {
    "execution": {
     "iopub.execute_input": "2021-02-06T07:21:25.094065Z",
     "iopub.status.busy": "2021-02-06T07:21:25.092938Z",
     "iopub.status.idle": "2021-02-06T07:21:25.102058Z",
     "shell.execute_reply": "2021-02-06T07:21:25.101269Z"
    },
    "papermill": {
     "duration": 0.030917,
     "end_time": "2021-02-06T07:21:25.102169",
     "exception": false,
     "start_time": "2021-02-06T07:21:25.071252",
     "status": "completed"
    },
    "tags": []
   },
   "outputs": [],
   "source": [
    "data<-data[,-c(22:27)]"
   ]
  },
  {
   "cell_type": "code",
   "execution_count": 5,
   "metadata": {
    "execution": {
     "iopub.execute_input": "2021-02-06T07:21:25.142698Z",
     "iopub.status.busy": "2021-02-06T07:21:25.141650Z",
     "iopub.status.idle": "2021-02-06T07:21:25.153235Z",
     "shell.execute_reply": "2021-02-06T07:21:25.152462Z"
    },
    "papermill": {
     "duration": 0.032975,
     "end_time": "2021-02-06T07:21:25.153344",
     "exception": false,
     "start_time": "2021-02-06T07:21:25.120369",
     "status": "completed"
    },
    "tags": []
   },
   "outputs": [],
   "source": [
    "#X column\n",
    "data<-data[,-4]\n",
    "\n",
    "#case_in_country\n",
    "data<-data[,-2]\n"
   ]
  },
  {
   "cell_type": "markdown",
   "metadata": {
    "papermill": {
     "duration": 0.018118,
     "end_time": "2021-02-06T07:21:25.189197",
     "exception": false,
     "start_time": "2021-02-06T07:21:25.171079",
     "status": "completed"
    },
    "tags": []
   },
   "source": [
    "**Age column**\n",
    "\n",
    "We will replace all missing values with their median"
   ]
  },
  {
   "cell_type": "code",
   "execution_count": 6,
   "metadata": {
    "execution": {
     "iopub.execute_input": "2021-02-06T07:21:25.232337Z",
     "iopub.status.busy": "2021-02-06T07:21:25.231780Z",
     "iopub.status.idle": "2021-02-06T07:21:25.254703Z",
     "shell.execute_reply": "2021-02-06T07:21:25.253604Z"
    },
    "papermill": {
     "duration": 0.046044,
     "end_time": "2021-02-06T07:21:25.254832",
     "exception": false,
     "start_time": "2021-02-06T07:21:25.208788",
     "status": "completed"
    },
    "tags": []
   },
   "outputs": [
    {
     "data": {
      "text/html": [
       "51"
      ],
      "text/latex": [
       "51"
      ],
      "text/markdown": [
       "51"
      ],
      "text/plain": [
       "[1] 51"
      ]
     },
     "metadata": {},
     "output_type": "display_data"
    }
   ],
   "source": [
    "median.age<-median(data$age, na.rm=TRUE)\n",
    "data[is.na(data$age),\"age\"]<-median.age\n",
    "median(data$age)"
   ]
  },
  {
   "cell_type": "markdown",
   "metadata": {
    "papermill": {
     "duration": 0.019022,
     "end_time": "2021-02-06T07:21:25.292701",
     "exception": false,
     "start_time": "2021-02-06T07:21:25.273679",
     "status": "completed"
    },
    "tags": []
   },
   "source": [
    "**Hospital visit date**\n",
    "\n",
    "For misssing values it means they did not visit the hospital.\n",
    "So we will change the hospital visit to binary either they visited or not."
   ]
  },
  {
   "cell_type": "code",
   "execution_count": 7,
   "metadata": {
    "execution": {
     "iopub.execute_input": "2021-02-06T07:21:25.338028Z",
     "iopub.status.busy": "2021-02-06T07:21:25.336632Z",
     "iopub.status.idle": "2021-02-06T07:21:25.354538Z",
     "shell.execute_reply": "2021-02-06T07:21:25.353036Z"
    },
    "papermill": {
     "duration": 0.042066,
     "end_time": "2021-02-06T07:21:25.354647",
     "exception": false,
     "start_time": "2021-02-06T07:21:25.312581",
     "status": "completed"
    },
    "tags": []
   },
   "outputs": [],
   "source": [
    "data[!is.na(data$hosp_visit_date),\"hosp_visit_date\"]<-1\n",
    "data[is.na(data$hosp_visit_date),\"hosp_visit_date\"]<-0\n",
    "data$hosp_visit_date<-as.integer(data$hosp_visit_date)"
   ]
  },
  {
   "cell_type": "markdown",
   "metadata": {
    "papermill": {
     "duration": 0.0192,
     "end_time": "2021-02-06T07:21:25.393137",
     "exception": false,
     "start_time": "2021-02-06T07:21:25.373937",
     "status": "completed"
    },
    "tags": []
   },
   "source": [
    "**Symptoms recoorded**\n",
    "\n",
    "No symtoms have been recorded so we remove that column as well"
   ]
  },
  {
   "cell_type": "code",
   "execution_count": 8,
   "metadata": {
    "execution": {
     "iopub.execute_input": "2021-02-06T07:21:25.438755Z",
     "iopub.status.busy": "2021-02-06T07:21:25.437091Z",
     "iopub.status.idle": "2021-02-06T07:21:25.450838Z",
     "shell.execute_reply": "2021-02-06T07:21:25.449682Z"
    },
    "papermill": {
     "duration": 0.038376,
     "end_time": "2021-02-06T07:21:25.450952",
     "exception": false,
     "start_time": "2021-02-06T07:21:25.412576",
     "status": "completed"
    },
    "tags": []
   },
   "outputs": [],
   "source": [
    "data<-data[,-17]"
   ]
  },
  {
   "cell_type": "markdown",
   "metadata": {
    "papermill": {
     "duration": 0.019368,
     "end_time": "2021-02-06T07:21:25.490223",
     "exception": false,
     "start_time": "2021-02-06T07:21:25.470855",
     "status": "completed"
    },
    "tags": []
   },
   "source": [
    "**If onset predicted**\n",
    "\n",
    "For NA values we will assume that they were not approximated."
   ]
  },
  {
   "cell_type": "code",
   "execution_count": 9,
   "metadata": {
    "execution": {
     "iopub.execute_input": "2021-02-06T07:21:25.534774Z",
     "iopub.status.busy": "2021-02-06T07:21:25.533347Z",
     "iopub.status.idle": "2021-02-06T07:21:25.546315Z",
     "shell.execute_reply": "2021-02-06T07:21:25.544935Z"
    },
    "papermill": {
     "duration": 0.037014,
     "end_time": "2021-02-06T07:21:25.546455",
     "exception": false,
     "start_time": "2021-02-06T07:21:25.509441",
     "status": "completed"
    },
    "tags": []
   },
   "outputs": [],
   "source": [
    "data[is.na(data$If_onset_approximated),\"If_onset_approximated\"]<-0"
   ]
  },
  {
   "cell_type": "markdown",
   "metadata": {
    "papermill": {
     "duration": 0.020292,
     "end_time": "2021-02-06T07:21:25.585984",
     "exception": false,
     "start_time": "2021-02-06T07:21:25.565692",
     "status": "completed"
    },
    "tags": []
   },
   "source": [
    "**from_Wuhan**\n",
    "\n",
    "We will fill the missing values with not from wuhan"
   ]
  },
  {
   "cell_type": "code",
   "execution_count": 10,
   "metadata": {
    "execution": {
     "iopub.execute_input": "2021-02-06T07:21:25.627822Z",
     "iopub.status.busy": "2021-02-06T07:21:25.627000Z",
     "iopub.status.idle": "2021-02-06T07:21:25.636089Z",
     "shell.execute_reply": "2021-02-06T07:21:25.634900Z"
    },
    "papermill": {
     "duration": 0.031058,
     "end_time": "2021-02-06T07:21:25.636225",
     "exception": false,
     "start_time": "2021-02-06T07:21:25.605167",
     "status": "completed"
    },
    "tags": []
   },
   "outputs": [],
   "source": [
    "data[is.na(data$from.Wuhan),\"from.Wuhan\"]<-0"
   ]
  },
  {
   "cell_type": "markdown",
   "metadata": {
    "papermill": {
     "duration": 0.026236,
     "end_time": "2021-02-06T07:21:25.682027",
     "exception": false,
     "start_time": "2021-02-06T07:21:25.655791",
     "status": "completed"
    },
    "tags": []
   },
   "source": [
    "**death column**"
   ]
  },
  {
   "cell_type": "code",
   "execution_count": 11,
   "metadata": {
    "execution": {
     "iopub.execute_input": "2021-02-06T07:21:25.735451Z",
     "iopub.status.busy": "2021-02-06T07:21:25.734366Z",
     "iopub.status.idle": "2021-02-06T07:21:25.745333Z",
     "shell.execute_reply": "2021-02-06T07:21:25.744363Z"
    },
    "papermill": {
     "duration": 0.037699,
     "end_time": "2021-02-06T07:21:25.745459",
     "exception": false,
     "start_time": "2021-02-06T07:21:25.707760",
     "status": "completed"
    },
    "tags": []
   },
   "outputs": [],
   "source": [
    "data$death<-as.integer(data$death!=0)"
   ]
  },
  {
   "cell_type": "markdown",
   "metadata": {
    "papermill": {
     "duration": 0.030004,
     "end_time": "2021-02-06T07:21:25.809716",
     "exception": false,
     "start_time": "2021-02-06T07:21:25.779712",
     "status": "completed"
    },
    "tags": []
   },
   "source": [
    "## T TESTS\n",
    "\n",
    "**Death rate**"
   ]
  },
  {
   "cell_type": "code",
   "execution_count": 12,
   "metadata": {
    "execution": {
     "iopub.execute_input": "2021-02-06T07:21:25.886995Z",
     "iopub.status.busy": "2021-02-06T07:21:25.883210Z",
     "iopub.status.idle": "2021-02-06T07:21:25.896545Z",
     "shell.execute_reply": "2021-02-06T07:21:25.894878Z"
    },
    "papermill": {
     "duration": 0.053982,
     "end_time": "2021-02-06T07:21:25.896673",
     "exception": false,
     "start_time": "2021-02-06T07:21:25.842691",
     "status": "completed"
    },
    "tags": []
   },
   "outputs": [],
   "source": [
    "data$deathrate<-sum(data$death) / nrow(data)"
   ]
  },
  {
   "cell_type": "markdown",
   "metadata": {
    "papermill": {
     "duration": 0.024569,
     "end_time": "2021-02-06T07:21:25.942764",
     "exception": false,
     "start_time": "2021-02-06T07:21:25.918195",
     "status": "completed"
    },
    "tags": []
   },
   "source": [
    "**AGE**\n",
    "\n",
    "**claim:** People who die are older"
   ]
  },
  {
   "cell_type": "code",
   "execution_count": 13,
   "metadata": {
    "execution": {
     "iopub.execute_input": "2021-02-06T07:21:25.988207Z",
     "iopub.status.busy": "2021-02-06T07:21:25.987837Z",
     "iopub.status.idle": "2021-02-06T07:21:26.009012Z",
     "shell.execute_reply": "2021-02-06T07:21:26.007961Z"
    },
    "papermill": {
     "duration": 0.046033,
     "end_time": "2021-02-06T07:21:26.009117",
     "exception": false,
     "start_time": "2021-02-06T07:21:25.963084",
     "status": "completed"
    },
    "tags": []
   },
   "outputs": [
    {
     "data": {
      "text/html": [
       "67.1904761904762"
      ],
      "text/latex": [
       "67.1904761904762"
      ],
      "text/markdown": [
       "67.1904761904762"
      ],
      "text/plain": [
       "[1] 67.19048"
      ]
     },
     "metadata": {},
     "output_type": "display_data"
    },
    {
     "data": {
      "text/html": [
       "48.7512230919765"
      ],
      "text/latex": [
       "48.7512230919765"
      ],
      "text/markdown": [
       "48.7512230919765"
      ],
      "text/plain": [
       "[1] 48.75122"
      ]
     },
     "metadata": {},
     "output_type": "display_data"
    }
   ],
   "source": [
    "dead=subset(data, death==1)\n",
    "alive=subset(data, death==0 )\n",
    "mean(dead$age)\n",
    "mean(alive$age)"
   ]
  },
  {
   "cell_type": "markdown",
   "metadata": {
    "papermill": {
     "duration": 0.021405,
     "end_time": "2021-02-06T07:21:26.051564",
     "exception": false,
     "start_time": "2021-02-06T07:21:26.030159",
     "status": "completed"
    },
    "tags": []
   },
   "source": [
    "is this statistic significant?"
   ]
  },
  {
   "cell_type": "code",
   "execution_count": 14,
   "metadata": {
    "execution": {
     "iopub.execute_input": "2021-02-06T07:21:26.099543Z",
     "iopub.status.busy": "2021-02-06T07:21:26.098393Z",
     "iopub.status.idle": "2021-02-06T07:21:26.118523Z",
     "shell.execute_reply": "2021-02-06T07:21:26.117331Z"
    },
    "papermill": {
     "duration": 0.045362,
     "end_time": "2021-02-06T07:21:26.118685",
     "exception": false,
     "start_time": "2021-02-06T07:21:26.073323",
     "status": "completed"
    },
    "tags": []
   },
   "outputs": [
    {
     "data": {
      "text/plain": [
       "\n",
       "\tWelch Two Sample t-test\n",
       "\n",
       "data:  alive$age and dead$age\n",
       "t = -10.158, df = 72.03, p-value = 1.506e-15\n",
       "alternative hypothesis: true difference in means is not equal to 0\n",
       "95 percent confidence interval:\n",
       " -22.05768 -14.82082\n",
       "sample estimates:\n",
       "mean of x mean of y \n",
       " 48.75122  67.19048 \n"
      ]
     },
     "metadata": {},
     "output_type": "display_data"
    }
   ],
   "source": [
    "t.test(alive$age , dead$age, alternative=\"two.sided\"  , conf.level = 0.95)"
   ]
  },
  {
   "cell_type": "markdown",
   "metadata": {
    "papermill": {
     "duration": 0.021773,
     "end_time": "2021-02-06T07:21:26.165751",
     "exception": false,
     "start_time": "2021-02-06T07:21:26.143978",
     "status": "completed"
    },
    "tags": []
   },
   "source": [
    "The difference between a person who is alive and dead is between 14 to 24 years.\n",
    "\n",
    "Normally, if p-value<0.05, we reject null hypothesis (p-value=0).\n",
    "\n",
    "**The statistic is significant.**\n",
    "\n",
    "\n",
    "**GENDER**\n",
    "\n",
    "**claim:** men have higher death rate than women "
   ]
  },
  {
   "cell_type": "code",
   "execution_count": 15,
   "metadata": {
    "execution": {
     "iopub.execute_input": "2021-02-06T07:21:26.214667Z",
     "iopub.status.busy": "2021-02-06T07:21:26.214036Z",
     "iopub.status.idle": "2021-02-06T07:21:26.238580Z",
     "shell.execute_reply": "2021-02-06T07:21:26.237791Z"
    },
    "papermill": {
     "duration": 0.050815,
     "end_time": "2021-02-06T07:21:26.238706",
     "exception": false,
     "start_time": "2021-02-06T07:21:26.187891",
     "status": "completed"
    },
    "tags": []
   },
   "outputs": [
    {
     "data": {
      "text/html": [
       "0.0846153846153846"
      ],
      "text/latex": [
       "0.0846153846153846"
      ],
      "text/markdown": [
       "0.0846153846153846"
      ],
      "text/plain": [
       "[1] 0.08461538"
      ]
     },
     "metadata": {},
     "output_type": "display_data"
    },
    {
     "data": {
      "text/html": [
       "0.0366492146596859"
      ],
      "text/latex": [
       "0.0366492146596859"
      ],
      "text/markdown": [
       "0.0366492146596859"
      ],
      "text/plain": [
       "[1] 0.03664921"
      ]
     },
     "metadata": {},
     "output_type": "display_data"
    }
   ],
   "source": [
    "men=subset(data, gender==\"male\")\n",
    "women=subset(data, gender==\"female\" )\n",
    "mean(men$death) #8.5%\n",
    "mean(women$death) #3.7%"
   ]
  },
  {
   "cell_type": "markdown",
   "metadata": {
    "papermill": {
     "duration": 0.036437,
     "end_time": "2021-02-06T07:21:26.309483",
     "exception": false,
     "start_time": "2021-02-06T07:21:26.273046",
     "status": "completed"
    },
    "tags": []
   },
   "source": [
    "is this statistic significant?"
   ]
  },
  {
   "cell_type": "code",
   "execution_count": 16,
   "metadata": {
    "execution": {
     "iopub.execute_input": "2021-02-06T07:21:26.381116Z",
     "iopub.status.busy": "2021-02-06T07:21:26.379653Z",
     "iopub.status.idle": "2021-02-06T07:21:26.392360Z",
     "shell.execute_reply": "2021-02-06T07:21:26.391301Z"
    },
    "papermill": {
     "duration": 0.049102,
     "end_time": "2021-02-06T07:21:26.392485",
     "exception": false,
     "start_time": "2021-02-06T07:21:26.343383",
     "status": "completed"
    },
    "tags": []
   },
   "outputs": [
    {
     "data": {
      "text/plain": [
       "\n",
       "\tWelch Two Sample t-test\n",
       "\n",
       "data:  men$death and women$death\n",
       "t = 3.084, df = 894.06, p-value = 0.002105\n",
       "alternative hypothesis: true difference in means is not equal to 0\n",
       "95 percent confidence interval:\n",
       " 0.01744083 0.07849151\n",
       "sample estimates:\n",
       " mean of x  mean of y \n",
       "0.08461538 0.03664921 \n"
      ]
     },
     "metadata": {},
     "output_type": "display_data"
    }
   ],
   "source": [
    "t.test(men$death , women$death, alternative=\"two.sided\"  , conf.level = 0.95)"
   ]
  },
  {
   "cell_type": "markdown",
   "metadata": {
    "papermill": {
     "duration": 0.033348,
     "end_time": "2021-02-06T07:21:26.458844",
     "exception": false,
     "start_time": "2021-02-06T07:21:26.425496",
     "status": "completed"
    },
    "tags": []
   },
   "source": [
    "**95% confidence:** men have 1.7% to 7.8% higher chance of dying compared to women.\n",
    "\n",
    "\n",
    "Normally, if p-value<0.05, we reject null hypothesis (p-value=0.002).\n",
    "\n",
    "**The statistic is significant**"
   ]
  },
  {
   "cell_type": "markdown",
   "metadata": {
    "papermill": {
     "duration": 0.033451,
     "end_time": "2021-02-06T07:21:26.525542",
     "exception": false,
     "start_time": "2021-02-06T07:21:26.492091",
     "status": "completed"
    },
    "tags": []
   },
   "source": [
    "#DATA VISUALIZATION\n",
    "\n",
    "We will plot the dataset to get a visual view of the data.\n",
    "\n",
    "**People from Wuhan**"
   ]
  },
  {
   "cell_type": "code",
   "execution_count": 17,
   "metadata": {
    "execution": {
     "iopub.execute_input": "2021-02-06T07:21:26.598630Z",
     "iopub.status.busy": "2021-02-06T07:21:26.596935Z",
     "iopub.status.idle": "2021-02-06T07:21:27.091363Z",
     "shell.execute_reply": "2021-02-06T07:21:27.089661Z"
    },
    "papermill": {
     "duration": 0.532175,
     "end_time": "2021-02-06T07:21:27.091471",
     "exception": false,
     "start_time": "2021-02-06T07:21:26.559296",
     "status": "completed"
    },
    "tags": []
   },
   "outputs": [
    {
     "data": {
      "image/png": "[encoded data removed]"
     },
     "metadata": {
      "image/png": {
       "height": 420,
       "width": 420
      }
     },
     "output_type": "display_data"
    }
   ],
   "source": [
    "ggplot(data, aes(x=from.Wuhan)) +\n",
    "  geom_bar( fill=\"darkorange\") +\n",
    "  facet_wrap(~ death) +\n",
    "  theme_classic() +\n",
    "  labs(x=\"from wuhan\",\n",
    "       y=\"Count\",\n",
    "       title=\"Death rate in Wuhan\") "
   ]
  },
  {
   "cell_type": "markdown",
   "metadata": {
    "papermill": {
     "duration": 0.023083,
     "end_time": "2021-02-06T07:21:27.137850",
     "exception": false,
     "start_time": "2021-02-06T07:21:27.114767",
     "status": "completed"
    },
    "tags": []
   },
   "source": [
    "For the people who were from Wuhan the death rate to the survival rate was almost equal.\n",
    "\n",
    "For the people not from Wuhan, the survival rate was higher.\n",
    "\n",
    "**Visited hospital**"
   ]
  },
  {
   "cell_type": "code",
   "execution_count": 18,
   "metadata": {
    "execution": {
     "iopub.execute_input": "2021-02-06T07:21:27.189197Z",
     "iopub.status.busy": "2021-02-06T07:21:27.187662Z",
     "iopub.status.idle": "2021-02-06T07:21:27.460361Z",
     "shell.execute_reply": "2021-02-06T07:21:27.458912Z"
    },
    "papermill": {
     "duration": 0.299624,
     "end_time": "2021-02-06T07:21:27.460464",
     "exception": false,
     "start_time": "2021-02-06T07:21:27.160840",
     "status": "completed"
    },
    "tags": []
   },
   "outputs": [
    {
     "data": {
      "image/png": "[encoded data removed]"
     },
     "metadata": {
      "image/png": {
       "height": 420,
       "width": 420
      }
     },
     "output_type": "display_data"
    }
   ],
   "source": [
    "ggplot(data ,aes(x=hosp_visit_date, fill=death))+\n",
    "  geom_bar(fill=\"darkorange\") + \n",
    "  theme_classic() +\n",
    "  labs(x=\"Visited hospital\",\n",
    "       title=\"Death rate by hospital visit\")"
   ]
  },
  {
   "cell_type": "markdown",
   "metadata": {
    "papermill": {
     "duration": 0.024667,
     "end_time": "2021-02-06T07:21:27.509395",
     "exception": false,
     "start_time": "2021-02-06T07:21:27.484728",
     "status": "completed"
    },
    "tags": []
   },
   "source": [
    "People who did not visit the hospital had a higher death rate than those who visited the hospital.\n",
    "\n",
    "\n",
    "**Gender**\n",
    "\n",
    "We first filter to remove null values."
   ]
  },
  {
   "cell_type": "code",
   "execution_count": 19,
   "metadata": {
    "execution": {
     "iopub.execute_input": "2021-02-06T07:21:27.563356Z",
     "iopub.status.busy": "2021-02-06T07:21:27.561732Z",
     "iopub.status.idle": "2021-02-06T07:21:27.588214Z",
     "shell.execute_reply": "2021-02-06T07:21:27.586948Z"
    },
    "papermill": {
     "duration": 0.055374,
     "end_time": "2021-02-06T07:21:27.588326",
     "exception": false,
     "start_time": "2021-02-06T07:21:27.532952",
     "status": "completed"
    },
    "tags": []
   },
   "outputs": [],
   "source": [
    "data.gender<-data %>% \n",
    "select(gender,death) %>% \n",
    " filter(gender==\"male\" |\n",
    "       gender==\"female\")"
   ]
  },
  {
   "cell_type": "code",
   "execution_count": 20,
   "metadata": {
    "execution": {
     "iopub.execute_input": "2021-02-06T07:21:27.642349Z",
     "iopub.status.busy": "2021-02-06T07:21:27.641032Z",
     "iopub.status.idle": "2021-02-06T07:21:27.930510Z",
     "shell.execute_reply": "2021-02-06T07:21:27.928485Z"
    },
    "papermill": {
     "duration": 0.31864,
     "end_time": "2021-02-06T07:21:27.930642",
     "exception": false,
     "start_time": "2021-02-06T07:21:27.612002",
     "status": "completed"
    },
    "tags": []
   },
   "outputs": [
    {
     "data": {
      "image/png": "[encoded data removed]"
     },
     "metadata": {
      "image/png": {
       "height": 420,
       "width": 420
      }
     },
     "output_type": "display_data"
    }
   ],
   "source": [
    "ggplot(data.gender, aes(x=gender, fill=death)) +\n",
    "  geom_bar(fill=\"darkorange\")+\n",
    "  theme_classic() +\n",
    "  labs(x=\"Gender\",\n",
    "       y=\"Count\",\n",
    "       title=\"Death rate by gender\")"
   ]
  },
  {
   "cell_type": "markdown",
   "metadata": {
    "papermill": {
     "duration": 0.03803,
     "end_time": "2021-02-06T07:21:28.005853",
     "exception": false,
     "start_time": "2021-02-06T07:21:27.967823",
     "status": "completed"
    },
    "tags": []
   },
   "source": [
    "As we proved earlier the males death rate is higher than the female.\n",
    "\n",
    "\n",
    "**AGE**"
   ]
  },
  {
   "cell_type": "code",
   "execution_count": 21,
   "metadata": {
    "execution": {
     "iopub.execute_input": "2021-02-06T07:21:28.089597Z",
     "iopub.status.busy": "2021-02-06T07:21:28.087998Z",
     "iopub.status.idle": "2021-02-06T07:21:28.380075Z",
     "shell.execute_reply": "2021-02-06T07:21:28.378617Z"
    },
    "papermill": {
     "duration": 0.33456,
     "end_time": "2021-02-06T07:21:28.380178",
     "exception": false,
     "start_time": "2021-02-06T07:21:28.045618",
     "status": "completed"
    },
    "tags": []
   },
   "outputs": [
    {
     "data": {
      "image/png": "[encoded data removed]"
     },
     "metadata": {
      "image/png": {
       "height": 420,
       "width": 420
      }
     },
     "output_type": "display_data"
    }
   ],
   "source": [
    "ggplot(data, aes(x=age)) +\n",
    "  geom_histogram(binwidth=5, fill=\"darkorange\") +\n",
    "  theme_classic() +\n",
    "  labs(title=\"Death rate by Age\")"
   ]
  },
  {
   "cell_type": "markdown",
   "metadata": {
    "papermill": {
     "duration": 0.02487,
     "end_time": "2021-02-06T07:21:28.430045",
     "exception": false,
     "start_time": "2021-02-06T07:21:28.405175",
     "status": "completed"
    },
    "tags": []
   },
   "source": [
    "People aged 50 years had the most deaths it seems.People below 25 had a really low death rate."
   ]
  }
 ],
 "metadata": {
  "kernelspec": {
   "display_name": "R",
   "language": "R",
   "name": "ir"
  },
  "language_info": {
   "codemirror_mode": "r",
   "file_extension": ".r",
   "mimetype": "text/x-r-source",
   "name": "R",
   "pygments_lexer": "r",
   "version": "3.6.3"
  },
  "papermill": {
   "default_parameters": {},
   "duration": 8.62356,
   "end_time": "2021-02-06T07:21:28.566135",
   "environment_variables": {},
   "exception": null,
   "input_path": "__notebook__.ipynb",
   "output_path": "__notebook__.ipynb",
   "parameters": {},
   "start_time": "2021-02-06T07:21:19.942575",
   "version": "2.2.2"
  }
 },
 "nbformat": 4,
 "nbformat_minor": 4
}
